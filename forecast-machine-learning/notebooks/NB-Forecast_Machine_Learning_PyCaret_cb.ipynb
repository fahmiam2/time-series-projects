{
 "cells": [
  {
   "cell_type": "markdown",
   "id": "eb73517f-99ca-4f9b-afee-6abbd31ce800",
   "metadata": {
    "tags": []
   },
   "source": [
    "# Machine Learning for Time Series"
   ]
  },
  {
   "cell_type": "markdown",
   "id": "72260b49-63be-49de-a7d0-9a713447371a",
   "metadata": {},
   "source": [
    "# PyCaret"
   ]
  },
  {
   "cell_type": "code",
   "execution_count": 1,
   "id": "6a85b74a-52f5-4bac-8bcd-bb89c946e506",
   "metadata": {},
   "outputs": [
    {
     "data": {
      "text/plain": [
       "'3.0.0'"
      ]
     },
     "execution_count": 1,
     "metadata": {},
     "output_type": "execute_result"
    }
   ],
   "source": [
    "import pycaret\n",
    "pycaret.__version__"
   ]
  },
  {
   "cell_type": "code",
   "execution_count": 2,
   "id": "8c2f2085-7100-46cc-9b27-3e155131b252",
   "metadata": {},
   "outputs": [],
   "source": [
    "import pandas as pd\n",
    "from pathlib import Path\n",
    "from pycaret.time_series import *\n",
    "\n",
    "import warnings\n",
    "warnings.simplefilter(action='ignore', category=FutureWarning)"
   ]
  },
  {
   "cell_type": "code",
   "execution_count": 3,
   "id": "44603d4c-bf5f-4c5a-a8a6-373dae97ba8d",
   "metadata": {},
   "outputs": [
    {
     "data": {
      "text/html": [
       "<div>\n",
       "<style scoped>\n",
       "    .dataframe tbody tr th:only-of-type {\n",
       "        vertical-align: middle;\n",
       "    }\n",
       "\n",
       "    .dataframe tbody tr th {\n",
       "        vertical-align: top;\n",
       "    }\n",
       "\n",
       "    .dataframe thead th {\n",
       "        text-align: right;\n",
       "    }\n",
       "</style>\n",
       "<table border=\"1\" class=\"dataframe\">\n",
       "  <thead>\n",
       "    <tr style=\"text-align: right;\">\n",
       "      <th></th>\n",
       "      <th>y</th>\n",
       "    </tr>\n",
       "    <tr>\n",
       "      <th>Month</th>\n",
       "      <th></th>\n",
       "    </tr>\n",
       "  </thead>\n",
       "  <tbody>\n",
       "    <tr>\n",
       "      <th>1973-01-01</th>\n",
       "      <td>1957.641</td>\n",
       "    </tr>\n",
       "    <tr>\n",
       "      <th>1973-02-01</th>\n",
       "      <td>1712.143</td>\n",
       "    </tr>\n",
       "    <tr>\n",
       "      <th>1973-03-01</th>\n",
       "      <td>1510.079</td>\n",
       "    </tr>\n",
       "    <tr>\n",
       "      <th>1973-04-01</th>\n",
       "      <td>1183.421</td>\n",
       "    </tr>\n",
       "    <tr>\n",
       "      <th>1973-05-01</th>\n",
       "      <td>1006.326</td>\n",
       "    </tr>\n",
       "  </tbody>\n",
       "</table>\n",
       "</div>"
      ],
      "text/plain": [
       "                   y\n",
       "Month               \n",
       "1973-01-01  1957.641\n",
       "1973-02-01  1712.143\n",
       "1973-03-01  1510.079\n",
       "1973-04-01  1183.421\n",
       "1973-05-01  1006.326"
      ]
     },
     "execution_count": 3,
     "metadata": {},
     "output_type": "execute_result"
    }
   ],
   "source": [
    "file = Path('../datasets/Residential_Energy_Consumption.csv')\n",
    "col = ['Month','Total Energy Consumed by the Residential Sector']\n",
    "df = pd.read_csv(file, index_col='Month', usecols=col, parse_dates=True)\n",
    "df.columns = ['y']\n",
    "df.head()"
   ]
  },
  {
   "cell_type": "code",
   "execution_count": 4,
   "id": "ea1a448b-69be-4305-8fdd-2e87ddd9af21",
   "metadata": {},
   "outputs": [
    {
     "data": {
      "text/plain": [
       "y    0\n",
       "dtype: int64"
      ]
     },
     "execution_count": 4,
     "metadata": {},
     "output_type": "execute_result"
    }
   ],
   "source": [
    "df.isna().sum()"
   ]
  },
  {
   "cell_type": "code",
   "execution_count": 5,
   "id": "b0a25a9d-b5d0-424c-b2b9-296715927387",
   "metadata": {},
   "outputs": [
    {
     "data": {
      "text/html": [
       "<div>\n",
       "<style scoped>\n",
       "    .dataframe tbody tr th:only-of-type {\n",
       "        vertical-align: middle;\n",
       "    }\n",
       "\n",
       "    .dataframe tbody tr th {\n",
       "        vertical-align: top;\n",
       "    }\n",
       "\n",
       "    .dataframe thead th {\n",
       "        text-align: right;\n",
       "    }\n",
       "</style>\n",
       "<table border=\"1\" class=\"dataframe\">\n",
       "  <thead>\n",
       "    <tr style=\"text-align: right;\">\n",
       "      <th></th>\n",
       "      <th>y</th>\n",
       "    </tr>\n",
       "    <tr>\n",
       "      <th>Month</th>\n",
       "      <th></th>\n",
       "    </tr>\n",
       "  </thead>\n",
       "  <tbody>\n",
       "    <tr>\n",
       "      <th>2021-08-01</th>\n",
       "      <td>1755.212</td>\n",
       "    </tr>\n",
       "    <tr>\n",
       "      <th>2021-09-01</th>\n",
       "      <td>1456.901</td>\n",
       "    </tr>\n",
       "    <tr>\n",
       "      <th>2021-10-01</th>\n",
       "      <td>1315.799</td>\n",
       "    </tr>\n",
       "    <tr>\n",
       "      <th>2021-11-01</th>\n",
       "      <td>1644.306</td>\n",
       "    </tr>\n",
       "    <tr>\n",
       "      <th>2021-12-01</th>\n",
       "      <td>2032.352</td>\n",
       "    </tr>\n",
       "  </tbody>\n",
       "</table>\n",
       "</div>"
      ],
      "text/plain": [
       "                   y\n",
       "Month               \n",
       "2021-08-01  1755.212\n",
       "2021-09-01  1456.901\n",
       "2021-10-01  1315.799\n",
       "2021-11-01  1644.306\n",
       "2021-12-01  2032.352"
      ]
     },
     "execution_count": 5,
     "metadata": {},
     "output_type": "execute_result"
    }
   ],
   "source": [
    "df.tail()"
   ]
  },
  {
   "cell_type": "code",
   "execution_count": 6,
   "id": "054c2c8f-ed41-4bf4-aa4c-eb49bb1a81ba",
   "metadata": {},
   "outputs": [
    {
     "data": {
      "text/html": [
       "<style type=\"text/css\">\n",
       "#T_7c3f7_row25_col1 {\n",
       "  background-color: lightgreen;\n",
       "}\n",
       "</style>\n",
       "<table id=\"T_7c3f7\">\n",
       "  <thead>\n",
       "    <tr>\n",
       "      <th class=\"blank level0\" >&nbsp;</th>\n",
       "      <th id=\"T_7c3f7_level0_col0\" class=\"col_heading level0 col0\" >Description</th>\n",
       "      <th id=\"T_7c3f7_level0_col1\" class=\"col_heading level0 col1\" >Value</th>\n",
       "    </tr>\n",
       "  </thead>\n",
       "  <tbody>\n",
       "    <tr>\n",
       "      <th id=\"T_7c3f7_level0_row0\" class=\"row_heading level0 row0\" >0</th>\n",
       "      <td id=\"T_7c3f7_row0_col0\" class=\"data row0 col0\" >session_id</td>\n",
       "      <td id=\"T_7c3f7_row0_col1\" class=\"data row0 col1\" >22</td>\n",
       "    </tr>\n",
       "    <tr>\n",
       "      <th id=\"T_7c3f7_level0_row1\" class=\"row_heading level0 row1\" >1</th>\n",
       "      <td id=\"T_7c3f7_row1_col0\" class=\"data row1 col0\" >Target</td>\n",
       "      <td id=\"T_7c3f7_row1_col1\" class=\"data row1 col1\" >y</td>\n",
       "    </tr>\n",
       "    <tr>\n",
       "      <th id=\"T_7c3f7_level0_row2\" class=\"row_heading level0 row2\" >2</th>\n",
       "      <td id=\"T_7c3f7_row2_col0\" class=\"data row2 col0\" >Approach</td>\n",
       "      <td id=\"T_7c3f7_row2_col1\" class=\"data row2 col1\" >Univariate</td>\n",
       "    </tr>\n",
       "    <tr>\n",
       "      <th id=\"T_7c3f7_level0_row3\" class=\"row_heading level0 row3\" >3</th>\n",
       "      <td id=\"T_7c3f7_row3_col0\" class=\"data row3 col0\" >Exogenous Variables</td>\n",
       "      <td id=\"T_7c3f7_row3_col1\" class=\"data row3 col1\" >Not Present</td>\n",
       "    </tr>\n",
       "    <tr>\n",
       "      <th id=\"T_7c3f7_level0_row4\" class=\"row_heading level0 row4\" >4</th>\n",
       "      <td id=\"T_7c3f7_row4_col0\" class=\"data row4 col0\" >Original data shape</td>\n",
       "      <td id=\"T_7c3f7_row4_col1\" class=\"data row4 col1\" >(588, 1)</td>\n",
       "    </tr>\n",
       "    <tr>\n",
       "      <th id=\"T_7c3f7_level0_row5\" class=\"row_heading level0 row5\" >5</th>\n",
       "      <td id=\"T_7c3f7_row5_col0\" class=\"data row5 col0\" >Transformed data shape</td>\n",
       "      <td id=\"T_7c3f7_row5_col1\" class=\"data row5 col1\" >(588, 1)</td>\n",
       "    </tr>\n",
       "    <tr>\n",
       "      <th id=\"T_7c3f7_level0_row6\" class=\"row_heading level0 row6\" >6</th>\n",
       "      <td id=\"T_7c3f7_row6_col0\" class=\"data row6 col0\" >Transformed train set shape</td>\n",
       "      <td id=\"T_7c3f7_row6_col1\" class=\"data row6 col1\" >(572, 1)</td>\n",
       "    </tr>\n",
       "    <tr>\n",
       "      <th id=\"T_7c3f7_level0_row7\" class=\"row_heading level0 row7\" >7</th>\n",
       "      <td id=\"T_7c3f7_row7_col0\" class=\"data row7 col0\" >Transformed test set shape</td>\n",
       "      <td id=\"T_7c3f7_row7_col1\" class=\"data row7 col1\" >(16, 1)</td>\n",
       "    </tr>\n",
       "    <tr>\n",
       "      <th id=\"T_7c3f7_level0_row8\" class=\"row_heading level0 row8\" >8</th>\n",
       "      <td id=\"T_7c3f7_row8_col0\" class=\"data row8 col0\" >Rows with missing values</td>\n",
       "      <td id=\"T_7c3f7_row8_col1\" class=\"data row8 col1\" >0.0%</td>\n",
       "    </tr>\n",
       "    <tr>\n",
       "      <th id=\"T_7c3f7_level0_row9\" class=\"row_heading level0 row9\" >9</th>\n",
       "      <td id=\"T_7c3f7_row9_col0\" class=\"data row9 col0\" >Fold Generator</td>\n",
       "      <td id=\"T_7c3f7_row9_col1\" class=\"data row9 col1\" >ExpandingWindowSplitter</td>\n",
       "    </tr>\n",
       "    <tr>\n",
       "      <th id=\"T_7c3f7_level0_row10\" class=\"row_heading level0 row10\" >10</th>\n",
       "      <td id=\"T_7c3f7_row10_col0\" class=\"data row10 col0\" >Fold Number</td>\n",
       "      <td id=\"T_7c3f7_row10_col1\" class=\"data row10 col1\" >5</td>\n",
       "    </tr>\n",
       "    <tr>\n",
       "      <th id=\"T_7c3f7_level0_row11\" class=\"row_heading level0 row11\" >11</th>\n",
       "      <td id=\"T_7c3f7_row11_col0\" class=\"data row11 col0\" >Enforce Prediction Interval</td>\n",
       "      <td id=\"T_7c3f7_row11_col1\" class=\"data row11 col1\" >False</td>\n",
       "    </tr>\n",
       "    <tr>\n",
       "      <th id=\"T_7c3f7_level0_row12\" class=\"row_heading level0 row12\" >12</th>\n",
       "      <td id=\"T_7c3f7_row12_col0\" class=\"data row12 col0\" >Splits used for hyperparameters</td>\n",
       "      <td id=\"T_7c3f7_row12_col1\" class=\"data row12 col1\" >all</td>\n",
       "    </tr>\n",
       "    <tr>\n",
       "      <th id=\"T_7c3f7_level0_row13\" class=\"row_heading level0 row13\" >13</th>\n",
       "      <td id=\"T_7c3f7_row13_col0\" class=\"data row13 col0\" >User Defined Seasonal Period(s)</td>\n",
       "      <td id=\"T_7c3f7_row13_col1\" class=\"data row13 col1\" >None</td>\n",
       "    </tr>\n",
       "    <tr>\n",
       "      <th id=\"T_7c3f7_level0_row14\" class=\"row_heading level0 row14\" >14</th>\n",
       "      <td id=\"T_7c3f7_row14_col0\" class=\"data row14 col0\" >Ignore Seasonality Test</td>\n",
       "      <td id=\"T_7c3f7_row14_col1\" class=\"data row14 col1\" >False</td>\n",
       "    </tr>\n",
       "    <tr>\n",
       "      <th id=\"T_7c3f7_level0_row15\" class=\"row_heading level0 row15\" >15</th>\n",
       "      <td id=\"T_7c3f7_row15_col0\" class=\"data row15 col0\" >Seasonality Detection Algo</td>\n",
       "      <td id=\"T_7c3f7_row15_col1\" class=\"data row15 col1\" >auto</td>\n",
       "    </tr>\n",
       "    <tr>\n",
       "      <th id=\"T_7c3f7_level0_row16\" class=\"row_heading level0 row16\" >16</th>\n",
       "      <td id=\"T_7c3f7_row16_col0\" class=\"data row16 col0\" >Max Period to Consider</td>\n",
       "      <td id=\"T_7c3f7_row16_col1\" class=\"data row16 col1\" >60</td>\n",
       "    </tr>\n",
       "    <tr>\n",
       "      <th id=\"T_7c3f7_level0_row17\" class=\"row_heading level0 row17\" >17</th>\n",
       "      <td id=\"T_7c3f7_row17_col0\" class=\"data row17 col0\" >Seasonal Period(s) Tested</td>\n",
       "      <td id=\"T_7c3f7_row17_col1\" class=\"data row17 col1\" >[12, 24, 36, 48, 60, 11, 13, 23, 6, 25, 35, 37, 47, 18, 59, 49, 30]</td>\n",
       "    </tr>\n",
       "    <tr>\n",
       "      <th id=\"T_7c3f7_level0_row18\" class=\"row_heading level0 row18\" >18</th>\n",
       "      <td id=\"T_7c3f7_row18_col0\" class=\"data row18 col0\" >Significant Seasonal Period(s)</td>\n",
       "      <td id=\"T_7c3f7_row18_col1\" class=\"data row18 col1\" >[12, 24, 36, 48, 60, 11, 13, 23, 6, 25, 35, 37, 47, 18, 59, 49, 30]</td>\n",
       "    </tr>\n",
       "    <tr>\n",
       "      <th id=\"T_7c3f7_level0_row19\" class=\"row_heading level0 row19\" >19</th>\n",
       "      <td id=\"T_7c3f7_row19_col0\" class=\"data row19 col0\" >Significant Seasonal Period(s) without Harmonics</td>\n",
       "      <td id=\"T_7c3f7_row19_col1\" class=\"data row19 col1\" >[60, 48, 36, 11, 13, 23, 25, 35, 37, 47, 59, 49]</td>\n",
       "    </tr>\n",
       "    <tr>\n",
       "      <th id=\"T_7c3f7_level0_row20\" class=\"row_heading level0 row20\" >20</th>\n",
       "      <td id=\"T_7c3f7_row20_col0\" class=\"data row20 col0\" >Remove Harmonics</td>\n",
       "      <td id=\"T_7c3f7_row20_col1\" class=\"data row20 col1\" >False</td>\n",
       "    </tr>\n",
       "    <tr>\n",
       "      <th id=\"T_7c3f7_level0_row21\" class=\"row_heading level0 row21\" >21</th>\n",
       "      <td id=\"T_7c3f7_row21_col0\" class=\"data row21 col0\" >Harmonics Order Method</td>\n",
       "      <td id=\"T_7c3f7_row21_col1\" class=\"data row21 col1\" >harmonic_max</td>\n",
       "    </tr>\n",
       "    <tr>\n",
       "      <th id=\"T_7c3f7_level0_row22\" class=\"row_heading level0 row22\" >22</th>\n",
       "      <td id=\"T_7c3f7_row22_col0\" class=\"data row22 col0\" >Num Seasonalities to Use</td>\n",
       "      <td id=\"T_7c3f7_row22_col1\" class=\"data row22 col1\" >1</td>\n",
       "    </tr>\n",
       "    <tr>\n",
       "      <th id=\"T_7c3f7_level0_row23\" class=\"row_heading level0 row23\" >23</th>\n",
       "      <td id=\"T_7c3f7_row23_col0\" class=\"data row23 col0\" >All Seasonalities to Use</td>\n",
       "      <td id=\"T_7c3f7_row23_col1\" class=\"data row23 col1\" >[12]</td>\n",
       "    </tr>\n",
       "    <tr>\n",
       "      <th id=\"T_7c3f7_level0_row24\" class=\"row_heading level0 row24\" >24</th>\n",
       "      <td id=\"T_7c3f7_row24_col0\" class=\"data row24 col0\" >Primary Seasonality</td>\n",
       "      <td id=\"T_7c3f7_row24_col1\" class=\"data row24 col1\" >12</td>\n",
       "    </tr>\n",
       "    <tr>\n",
       "      <th id=\"T_7c3f7_level0_row25\" class=\"row_heading level0 row25\" >25</th>\n",
       "      <td id=\"T_7c3f7_row25_col0\" class=\"data row25 col0\" >Seasonality Present</td>\n",
       "      <td id=\"T_7c3f7_row25_col1\" class=\"data row25 col1\" >True</td>\n",
       "    </tr>\n",
       "    <tr>\n",
       "      <th id=\"T_7c3f7_level0_row26\" class=\"row_heading level0 row26\" >26</th>\n",
       "      <td id=\"T_7c3f7_row26_col0\" class=\"data row26 col0\" >Target Strictly Positive</td>\n",
       "      <td id=\"T_7c3f7_row26_col1\" class=\"data row26 col1\" >True</td>\n",
       "    </tr>\n",
       "    <tr>\n",
       "      <th id=\"T_7c3f7_level0_row27\" class=\"row_heading level0 row27\" >27</th>\n",
       "      <td id=\"T_7c3f7_row27_col0\" class=\"data row27 col0\" >Target White Noise</td>\n",
       "      <td id=\"T_7c3f7_row27_col1\" class=\"data row27 col1\" >No</td>\n",
       "    </tr>\n",
       "    <tr>\n",
       "      <th id=\"T_7c3f7_level0_row28\" class=\"row_heading level0 row28\" >28</th>\n",
       "      <td id=\"T_7c3f7_row28_col0\" class=\"data row28 col0\" >Recommended d</td>\n",
       "      <td id=\"T_7c3f7_row28_col1\" class=\"data row28 col1\" >1</td>\n",
       "    </tr>\n",
       "    <tr>\n",
       "      <th id=\"T_7c3f7_level0_row29\" class=\"row_heading level0 row29\" >29</th>\n",
       "      <td id=\"T_7c3f7_row29_col0\" class=\"data row29 col0\" >Recommended Seasonal D</td>\n",
       "      <td id=\"T_7c3f7_row29_col1\" class=\"data row29 col1\" >0</td>\n",
       "    </tr>\n",
       "    <tr>\n",
       "      <th id=\"T_7c3f7_level0_row30\" class=\"row_heading level0 row30\" >30</th>\n",
       "      <td id=\"T_7c3f7_row30_col0\" class=\"data row30 col0\" >Preprocess</td>\n",
       "      <td id=\"T_7c3f7_row30_col1\" class=\"data row30 col1\" >False</td>\n",
       "    </tr>\n",
       "    <tr>\n",
       "      <th id=\"T_7c3f7_level0_row31\" class=\"row_heading level0 row31\" >31</th>\n",
       "      <td id=\"T_7c3f7_row31_col0\" class=\"data row31 col0\" >CPU Jobs</td>\n",
       "      <td id=\"T_7c3f7_row31_col1\" class=\"data row31 col1\" >-1</td>\n",
       "    </tr>\n",
       "    <tr>\n",
       "      <th id=\"T_7c3f7_level0_row32\" class=\"row_heading level0 row32\" >32</th>\n",
       "      <td id=\"T_7c3f7_row32_col0\" class=\"data row32 col0\" >Use GPU</td>\n",
       "      <td id=\"T_7c3f7_row32_col1\" class=\"data row32 col1\" >False</td>\n",
       "    </tr>\n",
       "    <tr>\n",
       "      <th id=\"T_7c3f7_level0_row33\" class=\"row_heading level0 row33\" >33</th>\n",
       "      <td id=\"T_7c3f7_row33_col0\" class=\"data row33 col0\" >Log Experiment</td>\n",
       "      <td id=\"T_7c3f7_row33_col1\" class=\"data row33 col1\" >False</td>\n",
       "    </tr>\n",
       "    <tr>\n",
       "      <th id=\"T_7c3f7_level0_row34\" class=\"row_heading level0 row34\" >34</th>\n",
       "      <td id=\"T_7c3f7_row34_col0\" class=\"data row34 col0\" >Experiment Name</td>\n",
       "      <td id=\"T_7c3f7_row34_col1\" class=\"data row34 col1\" >ts-default-name</td>\n",
       "    </tr>\n",
       "    <tr>\n",
       "      <th id=\"T_7c3f7_level0_row35\" class=\"row_heading level0 row35\" >35</th>\n",
       "      <td id=\"T_7c3f7_row35_col0\" class=\"data row35 col0\" >USI</td>\n",
       "      <td id=\"T_7c3f7_row35_col1\" class=\"data row35 col1\" >4ad7</td>\n",
       "    </tr>\n",
       "  </tbody>\n",
       "</table>\n"
      ],
      "text/plain": [
       "<pandas.io.formats.style.Styler at 0x1ec5a2bacb0>"
      ]
     },
     "metadata": {},
     "output_type": "display_data"
    }
   ],
   "source": [
    "fig_settings = {\"width\": 1000, \"height\": 600}\n",
    "\n",
    "s = setup(\n",
    "    data=df, session_id=22,\n",
    "    fh=16, fold=5,\n",
    "    fig_kwargs=fig_settings\n",
    "    )"
   ]
  },
  {
   "cell_type": "code",
   "execution_count": 7,
   "id": "f3c470e7-2e1b-487f-9628-393237c2048f",
   "metadata": {},
   "outputs": [
    {
     "data": {
      "text/html": [],
      "text/plain": [
       "<IPython.core.display.HTML object>"
      ]
     },
     "metadata": {},
     "output_type": "display_data"
    },
    {
     "data": {
      "text/html": [
       "<style type=\"text/css\">\n",
       "</style>\n",
       "<table id=\"T_c243b\">\n",
       "  <thead>\n",
       "  </thead>\n",
       "  <tbody>\n",
       "  </tbody>\n",
       "</table>\n"
      ],
      "text/plain": [
       "<pandas.io.formats.style.Styler at 0x1ec5b3c7100>"
      ]
     },
     "metadata": {},
     "output_type": "display_data"
    },
    {
     "data": {
      "text/html": [],
      "text/plain": [
       "<IPython.core.display.HTML object>"
      ]
     },
     "metadata": {},
     "output_type": "display_data"
    }
   ],
   "source": [
    "model = s.compare_models(sort='SMAPE')"
   ]
  },
  {
   "cell_type": "code",
   "execution_count": 8,
   "id": "7ae711f5-cd18-4cd1-9d44-e98657890bcc",
   "metadata": {},
   "outputs": [
    {
     "ename": "ValueError",
     "evalue": "No objects to concatenate",
     "output_type": "error",
     "traceback": [
      "\u001b[1;31m---------------------------------------------------------------------------\u001b[0m",
      "\u001b[1;31mValueError\u001b[0m                                Traceback (most recent call last)",
      "Cell \u001b[1;32mIn[8], line 1\u001b[0m\n\u001b[1;32m----> 1\u001b[0m \u001b[43mplot_model\u001b[49m\u001b[43m(\u001b[49m\u001b[43mmodel\u001b[49m\u001b[43m,\u001b[49m\u001b[43m \u001b[49m\u001b[43mplot\u001b[49m\u001b[38;5;241;43m=\u001b[39;49m\u001b[38;5;124;43m'\u001b[39;49m\u001b[38;5;124;43mforecast\u001b[39;49m\u001b[38;5;124;43m'\u001b[39;49m\u001b[43m,\u001b[49m\u001b[43m \u001b[49m\n\u001b[0;32m      2\u001b[0m \u001b[43m           \u001b[49m\u001b[43mdata_kwargs\u001b[49m\u001b[43m \u001b[49m\u001b[38;5;241;43m=\u001b[39;49m\u001b[43m \u001b[49m\u001b[43m{\u001b[49m\u001b[38;5;124;43m'\u001b[39;49m\u001b[38;5;124;43mfh\u001b[39;49m\u001b[38;5;124;43m'\u001b[39;49m\u001b[43m \u001b[49m\u001b[43m:\u001b[49m\u001b[43m \u001b[49m\u001b[38;5;241;43m36\u001b[39;49m\u001b[43m}\u001b[49m\u001b[43m)\u001b[49m\n",
      "File \u001b[1;32m~\\anaconda3\\envs\\quickMLCheck\\lib\\site-packages\\pycaret\\utils\\generic.py:965\u001b[0m, in \u001b[0;36mcheck_if_global_is_not_none.<locals>.decorator.<locals>.wrapper\u001b[1;34m(*args, **kwargs)\u001b[0m\n\u001b[0;32m    963\u001b[0m     \u001b[38;5;28;01mif\u001b[39;00m globals_d[name] \u001b[38;5;129;01mis\u001b[39;00m \u001b[38;5;28;01mNone\u001b[39;00m:\n\u001b[0;32m    964\u001b[0m         \u001b[38;5;28;01mraise\u001b[39;00m \u001b[38;5;167;01mValueError\u001b[39;00m(message)\n\u001b[1;32m--> 965\u001b[0m \u001b[38;5;28;01mreturn\u001b[39;00m func(\u001b[38;5;241m*\u001b[39margs, \u001b[38;5;241m*\u001b[39m\u001b[38;5;241m*\u001b[39mkwargs)\n",
      "File \u001b[1;32m~\\anaconda3\\envs\\quickMLCheck\\lib\\site-packages\\pycaret\\time_series\\forecasting\\functional.py:1381\u001b[0m, in \u001b[0;36mplot_model\u001b[1;34m(estimator, plot, return_fig, return_data, verbose, display_format, data_kwargs, fig_kwargs, save)\u001b[0m\n\u001b[0;32m   1145\u001b[0m \u001b[38;5;129m@check_if_global_is_not_none\u001b[39m(\u001b[38;5;28mglobals\u001b[39m(), _CURRENT_EXPERIMENT_DECORATOR_DICT)\n\u001b[0;32m   1146\u001b[0m \u001b[38;5;28;01mdef\u001b[39;00m \u001b[38;5;21mplot_model\u001b[39m(\n\u001b[0;32m   1147\u001b[0m     estimator: Optional[Any] \u001b[38;5;241m=\u001b[39m \u001b[38;5;28;01mNone\u001b[39;00m,\n\u001b[1;32m   (...)\u001b[0m\n\u001b[0;32m   1155\u001b[0m     save: Union[\u001b[38;5;28mstr\u001b[39m, \u001b[38;5;28mbool\u001b[39m] \u001b[38;5;241m=\u001b[39m \u001b[38;5;28;01mFalse\u001b[39;00m,\n\u001b[0;32m   1156\u001b[0m ) \u001b[38;5;241m-\u001b[39m\u001b[38;5;241m>\u001b[39m Optional[Tuple[\u001b[38;5;28mstr\u001b[39m, \u001b[38;5;28mlist\u001b[39m]]:\n\u001b[0;32m   1157\u001b[0m \u001b[38;5;250m    \u001b[39m\u001b[38;5;124;03m\"\"\"\u001b[39;00m\n\u001b[0;32m   1158\u001b[0m \u001b[38;5;124;03m    This function analyzes the performance of a trained model on holdout set.\u001b[39;00m\n\u001b[0;32m   1159\u001b[0m \u001b[38;5;124;03m    When used without any estimator, this function generates plots on the\u001b[39;00m\n\u001b[1;32m   (...)\u001b[0m\n\u001b[0;32m   1378\u001b[0m \n\u001b[0;32m   1379\u001b[0m \u001b[38;5;124;03m    \"\"\"\u001b[39;00m\n\u001b[1;32m-> 1381\u001b[0m     \u001b[38;5;28;01mreturn\u001b[39;00m \u001b[43m_CURRENT_EXPERIMENT\u001b[49m\u001b[38;5;241;43m.\u001b[39;49m\u001b[43mplot_model\u001b[49m\u001b[43m(\u001b[49m\n\u001b[0;32m   1382\u001b[0m \u001b[43m        \u001b[49m\u001b[43mestimator\u001b[49m\u001b[38;5;241;43m=\u001b[39;49m\u001b[43mestimator\u001b[49m\u001b[43m,\u001b[49m\n\u001b[0;32m   1383\u001b[0m \u001b[43m        \u001b[49m\u001b[43mplot\u001b[49m\u001b[38;5;241;43m=\u001b[39;49m\u001b[43mplot\u001b[49m\u001b[43m,\u001b[49m\n\u001b[0;32m   1384\u001b[0m \u001b[43m        \u001b[49m\u001b[43mreturn_fig\u001b[49m\u001b[38;5;241;43m=\u001b[39;49m\u001b[43mreturn_fig\u001b[49m\u001b[43m,\u001b[49m\n\u001b[0;32m   1385\u001b[0m \u001b[43m        \u001b[49m\u001b[43mreturn_data\u001b[49m\u001b[38;5;241;43m=\u001b[39;49m\u001b[43mreturn_data\u001b[49m\u001b[43m,\u001b[49m\n\u001b[0;32m   1386\u001b[0m \u001b[43m        \u001b[49m\u001b[43mdisplay_format\u001b[49m\u001b[38;5;241;43m=\u001b[39;49m\u001b[43mdisplay_format\u001b[49m\u001b[43m,\u001b[49m\n\u001b[0;32m   1387\u001b[0m \u001b[43m        \u001b[49m\u001b[43mdata_kwargs\u001b[49m\u001b[38;5;241;43m=\u001b[39;49m\u001b[43mdata_kwargs\u001b[49m\u001b[43m,\u001b[49m\n\u001b[0;32m   1388\u001b[0m \u001b[43m        \u001b[49m\u001b[43mfig_kwargs\u001b[49m\u001b[38;5;241;43m=\u001b[39;49m\u001b[43mfig_kwargs\u001b[49m\u001b[43m,\u001b[49m\n\u001b[0;32m   1389\u001b[0m \u001b[43m        \u001b[49m\u001b[43msave\u001b[49m\u001b[38;5;241;43m=\u001b[39;49m\u001b[43msave\u001b[49m\u001b[43m,\u001b[49m\n\u001b[0;32m   1390\u001b[0m \u001b[43m    \u001b[49m\u001b[43m)\u001b[49m\n",
      "File \u001b[1;32m~\\anaconda3\\envs\\quickMLCheck\\lib\\site-packages\\pycaret\\time_series\\forecasting\\oop.py:4076\u001b[0m, in \u001b[0;36mTSForecastingExperiment.plot_model\u001b[1;34m(self, estimator, plot, return_fig, return_data, verbose, display_format, data_kwargs, fig_kwargs, save)\u001b[0m\n\u001b[0;32m   4073\u001b[0m system \u001b[38;5;241m=\u001b[39m os\u001b[38;5;241m.\u001b[39menviron\u001b[38;5;241m.\u001b[39mget(\u001b[38;5;124m\"\u001b[39m\u001b[38;5;124mPYCARET_TESTING\u001b[39m\u001b[38;5;124m\"\u001b[39m, \u001b[38;5;124m\"\u001b[39m\u001b[38;5;124m0\u001b[39m\u001b[38;5;124m\"\u001b[39m)\n\u001b[0;32m   4074\u001b[0m system \u001b[38;5;241m=\u001b[39m system \u001b[38;5;241m==\u001b[39m \u001b[38;5;124m\"\u001b[39m\u001b[38;5;124m0\u001b[39m\u001b[38;5;124m\"\u001b[39m\n\u001b[1;32m-> 4076\u001b[0m \u001b[38;5;28;01mreturn\u001b[39;00m \u001b[38;5;28;43mself\u001b[39;49m\u001b[38;5;241;43m.\u001b[39;49m\u001b[43m_plot_model\u001b[49m\u001b[43m(\u001b[49m\n\u001b[0;32m   4077\u001b[0m \u001b[43m    \u001b[49m\u001b[43mestimator\u001b[49m\u001b[38;5;241;43m=\u001b[39;49m\u001b[43mestimator\u001b[49m\u001b[43m,\u001b[49m\n\u001b[0;32m   4078\u001b[0m \u001b[43m    \u001b[49m\u001b[43mplot\u001b[49m\u001b[38;5;241;43m=\u001b[39;49m\u001b[43mplot\u001b[49m\u001b[43m,\u001b[49m\n\u001b[0;32m   4079\u001b[0m \u001b[43m    \u001b[49m\u001b[43mreturn_fig\u001b[49m\u001b[38;5;241;43m=\u001b[39;49m\u001b[43mreturn_fig\u001b[49m\u001b[43m,\u001b[49m\n\u001b[0;32m   4080\u001b[0m \u001b[43m    \u001b[49m\u001b[43mreturn_data\u001b[49m\u001b[38;5;241;43m=\u001b[39;49m\u001b[43mreturn_data\u001b[49m\u001b[43m,\u001b[49m\n\u001b[0;32m   4081\u001b[0m \u001b[43m    \u001b[49m\u001b[43mverbose\u001b[49m\u001b[38;5;241;43m=\u001b[39;49m\u001b[43mverbose\u001b[49m\u001b[43m,\u001b[49m\n\u001b[0;32m   4082\u001b[0m \u001b[43m    \u001b[49m\u001b[43mdisplay_format\u001b[49m\u001b[38;5;241;43m=\u001b[39;49m\u001b[43mdisplay_format\u001b[49m\u001b[43m,\u001b[49m\n\u001b[0;32m   4083\u001b[0m \u001b[43m    \u001b[49m\u001b[43mdata_kwargs\u001b[49m\u001b[38;5;241;43m=\u001b[39;49m\u001b[43mdata_kwargs\u001b[49m\u001b[43m,\u001b[49m\n\u001b[0;32m   4084\u001b[0m \u001b[43m    \u001b[49m\u001b[43mfig_kwargs\u001b[49m\u001b[38;5;241;43m=\u001b[39;49m\u001b[43mfig_kwargs\u001b[49m\u001b[43m,\u001b[49m\n\u001b[0;32m   4085\u001b[0m \u001b[43m    \u001b[49m\u001b[43msave\u001b[49m\u001b[38;5;241;43m=\u001b[39;49m\u001b[43msave\u001b[49m\u001b[43m,\u001b[49m\n\u001b[0;32m   4086\u001b[0m \u001b[43m    \u001b[49m\u001b[43msystem\u001b[49m\u001b[38;5;241;43m=\u001b[39;49m\u001b[43msystem\u001b[49m\u001b[43m,\u001b[49m\n\u001b[0;32m   4087\u001b[0m \u001b[43m\u001b[49m\u001b[43m)\u001b[49m\n",
      "File \u001b[1;32m~\\anaconda3\\envs\\quickMLCheck\\lib\\site-packages\\pycaret\\time_series\\forecasting\\oop.py:3706\u001b[0m, in \u001b[0;36mTSForecastingExperiment._plot_model\u001b[1;34m(self, estimator, plot, return_fig, return_data, verbose, display_format, data_kwargs, fig_kwargs, system, save)\u001b[0m\n\u001b[0;32m   3698\u001b[0m         plots_formatted_model \u001b[38;5;241m=\u001b[39m [\n\u001b[0;32m   3699\u001b[0m             \u001b[38;5;124mf\u001b[39m\u001b[38;5;124m\"\u001b[39m\u001b[38;5;124m'\u001b[39m\u001b[38;5;132;01m{\u001b[39;00mplot\u001b[38;5;132;01m}\u001b[39;00m\u001b[38;5;124m'\u001b[39m\u001b[38;5;124m\"\u001b[39m \u001b[38;5;28;01mfor\u001b[39;00m plot \u001b[38;5;129;01min\u001b[39;00m \u001b[38;5;28mself\u001b[39m\u001b[38;5;241m.\u001b[39m_available_plots_estimator_keys\n\u001b[0;32m   3700\u001b[0m         ]\n\u001b[0;32m   3701\u001b[0m         \u001b[38;5;28;01mraise\u001b[39;00m \u001b[38;5;167;01mValueError\u001b[39;00m(\n\u001b[0;32m   3702\u001b[0m             \u001b[38;5;124mf\u001b[39m\u001b[38;5;124m\"\u001b[39m\u001b[38;5;124mPlot type \u001b[39m\u001b[38;5;124m'\u001b[39m\u001b[38;5;132;01m{\u001b[39;00mplot\u001b[38;5;132;01m}\u001b[39;00m\u001b[38;5;124m'\u001b[39m\u001b[38;5;124m is not supported when estimator is provided. \u001b[39m\u001b[38;5;124m\"\u001b[39m\n\u001b[0;32m   3703\u001b[0m             \u001b[38;5;124mf\u001b[39m\u001b[38;5;124m\"\u001b[39m\u001b[38;5;124mAvailable plots are: \u001b[39m\u001b[38;5;132;01m{\u001b[39;00m\u001b[38;5;124m'\u001b[39m\u001b[38;5;124m, \u001b[39m\u001b[38;5;124m'\u001b[39m\u001b[38;5;241m.\u001b[39mjoin(plots_formatted_model)\u001b[38;5;132;01m}\u001b[39;00m\u001b[38;5;124m\"\u001b[39m\n\u001b[0;32m   3704\u001b[0m         )\n\u001b[1;32m-> 3706\u001b[0m fig, plot_data \u001b[38;5;241m=\u001b[39m \u001b[43m_get_plot\u001b[49m\u001b[43m(\u001b[49m\n\u001b[0;32m   3707\u001b[0m \u001b[43m    \u001b[49m\u001b[43mplot\u001b[49m\u001b[38;5;241;43m=\u001b[39;49m\u001b[43mplot\u001b[49m\u001b[43m,\u001b[49m\n\u001b[0;32m   3708\u001b[0m \u001b[43m    \u001b[49m\u001b[43mfig_defaults\u001b[49m\u001b[38;5;241;43m=\u001b[39;49m\u001b[38;5;28;43mself\u001b[39;49m\u001b[38;5;241;43m.\u001b[39;49m\u001b[43mfig_kwargs\u001b[49m\u001b[43m,\u001b[49m\n\u001b[0;32m   3709\u001b[0m \u001b[43m    \u001b[49m\u001b[43mdata\u001b[49m\u001b[38;5;241;43m=\u001b[39;49m\u001b[43mdata\u001b[49m\u001b[43m,\u001b[49m\n\u001b[0;32m   3710\u001b[0m \u001b[43m    \u001b[49m\u001b[43mdata_label\u001b[49m\u001b[38;5;241;43m=\u001b[39;49m\u001b[43mdata_label\u001b[49m\u001b[43m,\u001b[49m\n\u001b[0;32m   3711\u001b[0m \u001b[43m    \u001b[49m\u001b[43mX\u001b[49m\u001b[38;5;241;43m=\u001b[39;49m\u001b[43mX\u001b[49m\u001b[43m,\u001b[49m\n\u001b[0;32m   3712\u001b[0m \u001b[43m    \u001b[49m\u001b[43mX_labels\u001b[49m\u001b[38;5;241;43m=\u001b[39;49m\u001b[43mX_labels\u001b[49m\u001b[43m,\u001b[49m\n\u001b[0;32m   3713\u001b[0m \u001b[43m    \u001b[49m\u001b[43mcv\u001b[49m\u001b[38;5;241;43m=\u001b[39;49m\u001b[43mcv\u001b[49m\u001b[43m,\u001b[49m\n\u001b[0;32m   3714\u001b[0m \u001b[43m    \u001b[49m\u001b[43mmodel_results\u001b[49m\u001b[38;5;241;43m=\u001b[39;49m\u001b[43mmodel_results\u001b[49m\u001b[43m,\u001b[49m\n\u001b[0;32m   3715\u001b[0m \u001b[43m    \u001b[49m\u001b[43mmodel_labels\u001b[49m\u001b[38;5;241;43m=\u001b[39;49m\u001b[43mmodel_labels\u001b[49m\u001b[43m,\u001b[49m\n\u001b[0;32m   3716\u001b[0m \u001b[43m    \u001b[49m\u001b[43mreturn_pred_int\u001b[49m\u001b[38;5;241;43m=\u001b[39;49m\u001b[43mreturn_pred_int\u001b[49m\u001b[43m,\u001b[49m\n\u001b[0;32m   3717\u001b[0m \u001b[43m    \u001b[49m\u001b[43mdata_kwargs\u001b[49m\u001b[38;5;241;43m=\u001b[39;49m\u001b[43mdata_kwargs\u001b[49m\u001b[43m,\u001b[49m\n\u001b[0;32m   3718\u001b[0m \u001b[43m    \u001b[49m\u001b[43mfig_kwargs\u001b[49m\u001b[38;5;241;43m=\u001b[39;49m\u001b[43mfig_kwargs\u001b[49m\u001b[43m,\u001b[49m\n\u001b[0;32m   3719\u001b[0m \u001b[43m\u001b[49m\u001b[43m)\u001b[49m\n\u001b[0;32m   3721\u001b[0m \u001b[38;5;66;03m# Sometimes the plot is not successful, such as decomp with RangeIndex.\u001b[39;00m\n\u001b[0;32m   3722\u001b[0m \u001b[38;5;66;03m# In such cases, plotting should be bypassed.\u001b[39;00m\n\u001b[0;32m   3723\u001b[0m \u001b[38;5;28;01mif\u001b[39;00m fig \u001b[38;5;129;01mis\u001b[39;00m \u001b[38;5;129;01mnot\u001b[39;00m \u001b[38;5;28;01mNone\u001b[39;00m:\n",
      "File \u001b[1;32m~\\anaconda3\\envs\\quickMLCheck\\lib\\site-packages\\pycaret\\internal\\plots\\time_series.py:162\u001b[0m, in \u001b[0;36m_get_plot\u001b[1;34m(plot, fig_defaults, data, data_label, X, X_labels, cv, model_results, model_labels, return_pred_int, data_kwargs, fig_kwargs)\u001b[0m\n\u001b[0;32m    153\u001b[0m         fig, plot_data \u001b[38;5;241m=\u001b[39m plot_predictions_with_confidence(\n\u001b[0;32m    154\u001b[0m             data\u001b[38;5;241m=\u001b[39mdata,\n\u001b[0;32m    155\u001b[0m             predictions\u001b[38;5;241m=\u001b[39mmodel_results,\n\u001b[1;32m   (...)\u001b[0m\n\u001b[0;32m    159\u001b[0m             fig_kwargs\u001b[38;5;241m=\u001b[39mfig_kwargs,\n\u001b[0;32m    160\u001b[0m         )\n\u001b[0;32m    161\u001b[0m     \u001b[38;5;28;01melse\u001b[39;00m:\n\u001b[1;32m--> 162\u001b[0m         fig, plot_data \u001b[38;5;241m=\u001b[39m \u001b[43mplot_model_results\u001b[49m\u001b[43m(\u001b[49m\n\u001b[0;32m    163\u001b[0m \u001b[43m            \u001b[49m\u001b[43moriginal_data\u001b[49m\u001b[38;5;241;43m=\u001b[39;49m\u001b[43mdata\u001b[49m\u001b[43m,\u001b[49m\n\u001b[0;32m    164\u001b[0m \u001b[43m            \u001b[49m\u001b[43mmodel_results\u001b[49m\u001b[38;5;241;43m=\u001b[39;49m\u001b[43mmodel_results\u001b[49m\u001b[43m,\u001b[49m\n\u001b[0;32m    165\u001b[0m \u001b[43m            \u001b[49m\u001b[43mmodel_labels\u001b[49m\u001b[38;5;241;43m=\u001b[39;49m\u001b[43mmodel_labels\u001b[49m\u001b[43m,\u001b[49m\n\u001b[0;32m    166\u001b[0m \u001b[43m            \u001b[49m\u001b[43mplot\u001b[49m\u001b[38;5;241;43m=\u001b[39;49m\u001b[43mplot\u001b[49m\u001b[43m,\u001b[49m\n\u001b[0;32m    167\u001b[0m \u001b[43m            \u001b[49m\u001b[43mfig_defaults\u001b[49m\u001b[38;5;241;43m=\u001b[39;49m\u001b[43mfig_defaults\u001b[49m\u001b[43m,\u001b[49m\n\u001b[0;32m    168\u001b[0m \u001b[43m            \u001b[49m\u001b[43mhoverinfo\u001b[49m\u001b[38;5;241;43m=\u001b[39;49m\u001b[43mhoverinfo\u001b[49m\u001b[43m,\u001b[49m\n\u001b[0;32m    169\u001b[0m \u001b[43m            \u001b[49m\u001b[43mfig_kwargs\u001b[49m\u001b[38;5;241;43m=\u001b[39;49m\u001b[43mfig_kwargs\u001b[49m\u001b[43m,\u001b[49m\n\u001b[0;32m    170\u001b[0m \u001b[43m        \u001b[49m\u001b[43m)\u001b[49m\n\u001b[0;32m    171\u001b[0m \u001b[38;5;28;01melif\u001b[39;00m plot \u001b[38;5;241m==\u001b[39m \u001b[38;5;124m\"\u001b[39m\u001b[38;5;124mccf\u001b[39m\u001b[38;5;124m\"\u001b[39m:\n\u001b[0;32m    172\u001b[0m     fig, plot_data \u001b[38;5;241m=\u001b[39m plot_ccf(\n\u001b[0;32m    173\u001b[0m         y\u001b[38;5;241m=\u001b[39mdata,\n\u001b[0;32m    174\u001b[0m         y_label\u001b[38;5;241m=\u001b[39mdata_label,\n\u001b[1;32m   (...)\u001b[0m\n\u001b[0;32m    178\u001b[0m         fig_kwargs\u001b[38;5;241m=\u001b[39mfig_kwargs,\n\u001b[0;32m    179\u001b[0m     )\n",
      "File \u001b[1;32m~\\anaconda3\\envs\\quickMLCheck\\lib\\site-packages\\pycaret\\internal\\plots\\time_series.py:573\u001b[0m, in \u001b[0;36mplot_model_results\u001b[1;34m(original_data, model_results, model_labels, plot, fig_defaults, hoverinfo, fig_kwargs)\u001b[0m\n\u001b[0;32m    571\u001b[0m \u001b[38;5;28;01mif\u001b[39;00m plot \u001b[38;5;129;01min\u001b[39;00m [\u001b[38;5;124m\"\u001b[39m\u001b[38;5;124mforecast\u001b[39m\u001b[38;5;124m\"\u001b[39m, \u001b[38;5;124m\"\u001b[39m\u001b[38;5;124minsample\u001b[39m\u001b[38;5;124m\"\u001b[39m]:\n\u001b[0;32m    572\u001b[0m     model_results \u001b[38;5;241m=\u001b[39m [model_result[\u001b[38;5;124m\"\u001b[39m\u001b[38;5;124my_pred\u001b[39m\u001b[38;5;124m\"\u001b[39m] \u001b[38;5;28;01mfor\u001b[39;00m model_result \u001b[38;5;129;01min\u001b[39;00m model_results]\n\u001b[1;32m--> 573\u001b[0m model_results \u001b[38;5;241m=\u001b[39m \u001b[43mpd\u001b[49m\u001b[38;5;241;43m.\u001b[39;49m\u001b[43mconcat\u001b[49m\u001b[43m(\u001b[49m\u001b[43mmodel_results\u001b[49m\u001b[43m,\u001b[49m\u001b[43m \u001b[49m\u001b[43maxis\u001b[49m\u001b[38;5;241;43m=\u001b[39;49m\u001b[38;5;241;43m1\u001b[39;49m\u001b[43m)\u001b[49m\n\u001b[0;32m    574\u001b[0m model_results\u001b[38;5;241m.\u001b[39mcolumns \u001b[38;5;241m=\u001b[39m model_labels\n\u001b[0;32m    576\u001b[0m \u001b[38;5;28;01mif\u001b[39;00m plot \u001b[38;5;241m==\u001b[39m \u001b[38;5;124m\"\u001b[39m\u001b[38;5;124mforecast\u001b[39m\u001b[38;5;124m\"\u001b[39m:\n",
      "File \u001b[1;32m~\\anaconda3\\envs\\quickMLCheck\\lib\\site-packages\\pandas\\util\\_decorators.py:331\u001b[0m, in \u001b[0;36mdeprecate_nonkeyword_arguments.<locals>.decorate.<locals>.wrapper\u001b[1;34m(*args, **kwargs)\u001b[0m\n\u001b[0;32m    325\u001b[0m \u001b[38;5;28;01mif\u001b[39;00m \u001b[38;5;28mlen\u001b[39m(args) \u001b[38;5;241m>\u001b[39m num_allow_args:\n\u001b[0;32m    326\u001b[0m     warnings\u001b[38;5;241m.\u001b[39mwarn(\n\u001b[0;32m    327\u001b[0m         msg\u001b[38;5;241m.\u001b[39mformat(arguments\u001b[38;5;241m=\u001b[39m_format_argument_list(allow_args)),\n\u001b[0;32m    328\u001b[0m         \u001b[38;5;167;01mFutureWarning\u001b[39;00m,\n\u001b[0;32m    329\u001b[0m         stacklevel\u001b[38;5;241m=\u001b[39mfind_stack_level(),\n\u001b[0;32m    330\u001b[0m     )\n\u001b[1;32m--> 331\u001b[0m \u001b[38;5;28;01mreturn\u001b[39;00m func(\u001b[38;5;241m*\u001b[39margs, \u001b[38;5;241m*\u001b[39m\u001b[38;5;241m*\u001b[39mkwargs)\n",
      "File \u001b[1;32m~\\anaconda3\\envs\\quickMLCheck\\lib\\site-packages\\pandas\\core\\reshape\\concat.py:368\u001b[0m, in \u001b[0;36mconcat\u001b[1;34m(objs, axis, join, ignore_index, keys, levels, names, verify_integrity, sort, copy)\u001b[0m\n\u001b[0;32m    146\u001b[0m \u001b[38;5;129m@deprecate_nonkeyword_arguments\u001b[39m(version\u001b[38;5;241m=\u001b[39m\u001b[38;5;28;01mNone\u001b[39;00m, allowed_args\u001b[38;5;241m=\u001b[39m[\u001b[38;5;124m\"\u001b[39m\u001b[38;5;124mobjs\u001b[39m\u001b[38;5;124m\"\u001b[39m])\n\u001b[0;32m    147\u001b[0m \u001b[38;5;28;01mdef\u001b[39;00m \u001b[38;5;21mconcat\u001b[39m(\n\u001b[0;32m    148\u001b[0m     objs: Iterable[NDFrame] \u001b[38;5;241m|\u001b[39m Mapping[HashableT, NDFrame],\n\u001b[1;32m   (...)\u001b[0m\n\u001b[0;32m    157\u001b[0m     copy: \u001b[38;5;28mbool\u001b[39m \u001b[38;5;241m=\u001b[39m \u001b[38;5;28;01mTrue\u001b[39;00m,\n\u001b[0;32m    158\u001b[0m ) \u001b[38;5;241m-\u001b[39m\u001b[38;5;241m>\u001b[39m DataFrame \u001b[38;5;241m|\u001b[39m Series:\n\u001b[0;32m    159\u001b[0m \u001b[38;5;250m    \u001b[39m\u001b[38;5;124;03m\"\"\"\u001b[39;00m\n\u001b[0;32m    160\u001b[0m \u001b[38;5;124;03m    Concatenate pandas objects along a particular axis.\u001b[39;00m\n\u001b[0;32m    161\u001b[0m \n\u001b[1;32m   (...)\u001b[0m\n\u001b[0;32m    366\u001b[0m \u001b[38;5;124;03m    1   3   4\u001b[39;00m\n\u001b[0;32m    367\u001b[0m \u001b[38;5;124;03m    \"\"\"\u001b[39;00m\n\u001b[1;32m--> 368\u001b[0m     op \u001b[38;5;241m=\u001b[39m \u001b[43m_Concatenator\u001b[49m\u001b[43m(\u001b[49m\n\u001b[0;32m    369\u001b[0m \u001b[43m        \u001b[49m\u001b[43mobjs\u001b[49m\u001b[43m,\u001b[49m\n\u001b[0;32m    370\u001b[0m \u001b[43m        \u001b[49m\u001b[43maxis\u001b[49m\u001b[38;5;241;43m=\u001b[39;49m\u001b[43maxis\u001b[49m\u001b[43m,\u001b[49m\n\u001b[0;32m    371\u001b[0m \u001b[43m        \u001b[49m\u001b[43mignore_index\u001b[49m\u001b[38;5;241;43m=\u001b[39;49m\u001b[43mignore_index\u001b[49m\u001b[43m,\u001b[49m\n\u001b[0;32m    372\u001b[0m \u001b[43m        \u001b[49m\u001b[43mjoin\u001b[49m\u001b[38;5;241;43m=\u001b[39;49m\u001b[43mjoin\u001b[49m\u001b[43m,\u001b[49m\n\u001b[0;32m    373\u001b[0m \u001b[43m        \u001b[49m\u001b[43mkeys\u001b[49m\u001b[38;5;241;43m=\u001b[39;49m\u001b[43mkeys\u001b[49m\u001b[43m,\u001b[49m\n\u001b[0;32m    374\u001b[0m \u001b[43m        \u001b[49m\u001b[43mlevels\u001b[49m\u001b[38;5;241;43m=\u001b[39;49m\u001b[43mlevels\u001b[49m\u001b[43m,\u001b[49m\n\u001b[0;32m    375\u001b[0m \u001b[43m        \u001b[49m\u001b[43mnames\u001b[49m\u001b[38;5;241;43m=\u001b[39;49m\u001b[43mnames\u001b[49m\u001b[43m,\u001b[49m\n\u001b[0;32m    376\u001b[0m \u001b[43m        \u001b[49m\u001b[43mverify_integrity\u001b[49m\u001b[38;5;241;43m=\u001b[39;49m\u001b[43mverify_integrity\u001b[49m\u001b[43m,\u001b[49m\n\u001b[0;32m    377\u001b[0m \u001b[43m        \u001b[49m\u001b[43mcopy\u001b[49m\u001b[38;5;241;43m=\u001b[39;49m\u001b[43mcopy\u001b[49m\u001b[43m,\u001b[49m\n\u001b[0;32m    378\u001b[0m \u001b[43m        \u001b[49m\u001b[43msort\u001b[49m\u001b[38;5;241;43m=\u001b[39;49m\u001b[43msort\u001b[49m\u001b[43m,\u001b[49m\n\u001b[0;32m    379\u001b[0m \u001b[43m    \u001b[49m\u001b[43m)\u001b[49m\n\u001b[0;32m    381\u001b[0m     \u001b[38;5;28;01mreturn\u001b[39;00m op\u001b[38;5;241m.\u001b[39mget_result()\n",
      "File \u001b[1;32m~\\anaconda3\\envs\\quickMLCheck\\lib\\site-packages\\pandas\\core\\reshape\\concat.py:425\u001b[0m, in \u001b[0;36m_Concatenator.__init__\u001b[1;34m(self, objs, axis, join, keys, levels, names, ignore_index, verify_integrity, copy, sort)\u001b[0m\n\u001b[0;32m    422\u001b[0m     objs \u001b[38;5;241m=\u001b[39m \u001b[38;5;28mlist\u001b[39m(objs)\n\u001b[0;32m    424\u001b[0m \u001b[38;5;28;01mif\u001b[39;00m \u001b[38;5;28mlen\u001b[39m(objs) \u001b[38;5;241m==\u001b[39m \u001b[38;5;241m0\u001b[39m:\n\u001b[1;32m--> 425\u001b[0m     \u001b[38;5;28;01mraise\u001b[39;00m \u001b[38;5;167;01mValueError\u001b[39;00m(\u001b[38;5;124m\"\u001b[39m\u001b[38;5;124mNo objects to concatenate\u001b[39m\u001b[38;5;124m\"\u001b[39m)\n\u001b[0;32m    427\u001b[0m \u001b[38;5;28;01mif\u001b[39;00m keys \u001b[38;5;129;01mis\u001b[39;00m \u001b[38;5;28;01mNone\u001b[39;00m:\n\u001b[0;32m    428\u001b[0m     objs \u001b[38;5;241m=\u001b[39m \u001b[38;5;28mlist\u001b[39m(com\u001b[38;5;241m.\u001b[39mnot_none(\u001b[38;5;241m*\u001b[39mobjs))\n",
      "\u001b[1;31mValueError\u001b[0m: No objects to concatenate"
     ]
    }
   ],
   "source": [
    "plot_model(model, plot='forecast', \n",
    "           data_kwargs = {'fh' : 36})"
   ]
  },
  {
   "cell_type": "code",
   "execution_count": null,
   "id": "5db32705-1a56-4769-88ee-de47436212b2",
   "metadata": {},
   "outputs": [],
   "source": [
    "model"
   ]
  },
  {
   "cell_type": "code",
   "execution_count": null,
   "id": "0ae498d4-51a2-40b1-9d5c-2b540d00bc5d",
   "metadata": {},
   "outputs": [],
   "source": [
    "plot_model(model, plot='cv')"
   ]
  },
  {
   "cell_type": "code",
   "execution_count": null,
   "id": "82d14782-bc1c-4710-96b9-1c7156320ce1",
   "metadata": {},
   "outputs": [],
   "source": [
    "plot_model(model, plot='diagnostics')"
   ]
  },
  {
   "cell_type": "code",
   "execution_count": null,
   "id": "f4269995-1646-4a78-bb69-26646e56ee9e",
   "metadata": {},
   "outputs": [],
   "source": [
    "model_tuned = tune_model(model)"
   ]
  },
  {
   "cell_type": "code",
   "execution_count": null,
   "id": "191a1fb4-7c23-4a17-8431-0fc4cf149b5e",
   "metadata": {},
   "outputs": [],
   "source": [
    "model"
   ]
  },
  {
   "cell_type": "code",
   "execution_count": null,
   "id": "23d193bb-cb2c-4410-b02d-7bf15171a6b2",
   "metadata": {},
   "outputs": [],
   "source": [
    "model_tuned"
   ]
  },
  {
   "cell_type": "code",
   "execution_count": null,
   "id": "643e6145-eb4b-4129-b2e7-4709a474e02e",
   "metadata": {},
   "outputs": [],
   "source": [
    "final = finalize_model(model_tuned)\n",
    "save_model(final, 'energy_exp_model')\n",
    "energy_model = load_model('energy_exp_model')"
   ]
  },
  {
   "cell_type": "code",
   "execution_count": null,
   "id": "952ee361-93ef-4157-b4ba-9e0d1c70b842",
   "metadata": {},
   "outputs": [],
   "source": [
    "import numpy as np\n",
    "fh = np.arange(24)\n",
    "energy_model.predict(fh=fh)"
   ]
  },
  {
   "cell_type": "markdown",
   "id": "faf07d3c-87d7-4ad0-ae7d-922372029929",
   "metadata": {
    "tags": []
   },
   "source": [
    "## There is more"
   ]
  },
  {
   "cell_type": "code",
   "execution_count": 9,
   "id": "77f082c7-2308-4e7f-afe6-92f3c5acf99f",
   "metadata": {},
   "outputs": [
    {
     "data": {
      "text/html": [
       "<div>\n",
       "<style scoped>\n",
       "    .dataframe tbody tr th:only-of-type {\n",
       "        vertical-align: middle;\n",
       "    }\n",
       "\n",
       "    .dataframe tbody tr th {\n",
       "        vertical-align: top;\n",
       "    }\n",
       "\n",
       "    .dataframe thead th {\n",
       "        text-align: right;\n",
       "    }\n",
       "</style>\n",
       "<table border=\"1\" class=\"dataframe\">\n",
       "  <thead>\n",
       "    <tr style=\"text-align: right;\">\n",
       "      <th></th>\n",
       "      <th>DATE</th>\n",
       "      <th>FEDFUNDS</th>\n",
       "      <th>unrate</th>\n",
       "      <th>CORESTICKM159SFRBATL</th>\n",
       "    </tr>\n",
       "  </thead>\n",
       "  <tbody>\n",
       "    <tr>\n",
       "      <th>0</th>\n",
       "      <td>1990-01-01</td>\n",
       "      <td>8.23</td>\n",
       "      <td>5.4</td>\n",
       "      <td>4.920589</td>\n",
       "    </tr>\n",
       "    <tr>\n",
       "      <th>1</th>\n",
       "      <td>1990-02-01</td>\n",
       "      <td>8.24</td>\n",
       "      <td>5.3</td>\n",
       "      <td>4.935526</td>\n",
       "    </tr>\n",
       "    <tr>\n",
       "      <th>2</th>\n",
       "      <td>1990-03-01</td>\n",
       "      <td>8.28</td>\n",
       "      <td>5.2</td>\n",
       "      <td>5.208701</td>\n",
       "    </tr>\n",
       "    <tr>\n",
       "      <th>3</th>\n",
       "      <td>1990-04-01</td>\n",
       "      <td>8.26</td>\n",
       "      <td>5.4</td>\n",
       "      <td>5.294134</td>\n",
       "    </tr>\n",
       "    <tr>\n",
       "      <th>4</th>\n",
       "      <td>1990-05-01</td>\n",
       "      <td>8.18</td>\n",
       "      <td>5.4</td>\n",
       "      <td>5.183754</td>\n",
       "    </tr>\n",
       "  </tbody>\n",
       "</table>\n",
       "</div>"
      ],
      "text/plain": [
       "         DATE  FEDFUNDS  unrate  CORESTICKM159SFRBATL\n",
       "0  1990-01-01      8.23     5.4              4.920589\n",
       "1  1990-02-01      8.24     5.3              4.935526\n",
       "2  1990-03-01      8.28     5.2              5.208701\n",
       "3  1990-04-01      8.26     5.4              5.294134\n",
       "4  1990-05-01      8.18     5.4              5.183754"
      ]
     },
     "execution_count": 9,
     "metadata": {},
     "output_type": "execute_result"
    }
   ],
   "source": [
    "econ = pd.read_csv('../datasets/economic_df.csv')\n",
    "econ.head()"
   ]
  },
  {
   "cell_type": "code",
   "execution_count": 10,
   "id": "5df276a9-bdef-487b-84a4-c83565d1923c",
   "metadata": {},
   "outputs": [
    {
     "data": {
      "text/plain": [
       "(386, 4)"
      ]
     },
     "execution_count": 10,
     "metadata": {},
     "output_type": "execute_result"
    }
   ],
   "source": [
    "econ.shape"
   ]
  },
  {
   "cell_type": "code",
   "execution_count": 11,
   "id": "9c93f8cd-ec62-413a-91d2-3a53dec103b4",
   "metadata": {},
   "outputs": [
    {
     "data": {
      "text/html": [
       "<style type=\"text/css\">\n",
       "#T_aca29_row25_col1 {\n",
       "  background-color: lightgreen;\n",
       "}\n",
       "</style>\n",
       "<table id=\"T_aca29\">\n",
       "  <thead>\n",
       "    <tr>\n",
       "      <th class=\"blank level0\" >&nbsp;</th>\n",
       "      <th id=\"T_aca29_level0_col0\" class=\"col_heading level0 col0\" >Description</th>\n",
       "      <th id=\"T_aca29_level0_col1\" class=\"col_heading level0 col1\" >Value</th>\n",
       "    </tr>\n",
       "  </thead>\n",
       "  <tbody>\n",
       "    <tr>\n",
       "      <th id=\"T_aca29_level0_row0\" class=\"row_heading level0 row0\" >0</th>\n",
       "      <td id=\"T_aca29_row0_col0\" class=\"data row0 col0\" >session_id</td>\n",
       "      <td id=\"T_aca29_row0_col1\" class=\"data row0 col1\" >23</td>\n",
       "    </tr>\n",
       "    <tr>\n",
       "      <th id=\"T_aca29_level0_row1\" class=\"row_heading level0 row1\" >1</th>\n",
       "      <td id=\"T_aca29_row1_col0\" class=\"data row1 col0\" >Target</td>\n",
       "      <td id=\"T_aca29_row1_col1\" class=\"data row1 col1\" >unrate</td>\n",
       "    </tr>\n",
       "    <tr>\n",
       "      <th id=\"T_aca29_level0_row2\" class=\"row_heading level0 row2\" >2</th>\n",
       "      <td id=\"T_aca29_row2_col0\" class=\"data row2 col0\" >Approach</td>\n",
       "      <td id=\"T_aca29_row2_col1\" class=\"data row2 col1\" >Univariate</td>\n",
       "    </tr>\n",
       "    <tr>\n",
       "      <th id=\"T_aca29_level0_row3\" class=\"row_heading level0 row3\" >3</th>\n",
       "      <td id=\"T_aca29_row3_col0\" class=\"data row3 col0\" >Exogenous Variables</td>\n",
       "      <td id=\"T_aca29_row3_col1\" class=\"data row3 col1\" >Present</td>\n",
       "    </tr>\n",
       "    <tr>\n",
       "      <th id=\"T_aca29_level0_row4\" class=\"row_heading level0 row4\" >4</th>\n",
       "      <td id=\"T_aca29_row4_col0\" class=\"data row4 col0\" >Original data shape</td>\n",
       "      <td id=\"T_aca29_row4_col1\" class=\"data row4 col1\" >(386, 2)</td>\n",
       "    </tr>\n",
       "    <tr>\n",
       "      <th id=\"T_aca29_level0_row5\" class=\"row_heading level0 row5\" >5</th>\n",
       "      <td id=\"T_aca29_row5_col0\" class=\"data row5 col0\" >Transformed data shape</td>\n",
       "      <td id=\"T_aca29_row5_col1\" class=\"data row5 col1\" >(386, 2)</td>\n",
       "    </tr>\n",
       "    <tr>\n",
       "      <th id=\"T_aca29_level0_row6\" class=\"row_heading level0 row6\" >6</th>\n",
       "      <td id=\"T_aca29_row6_col0\" class=\"data row6 col0\" >Transformed train set shape</td>\n",
       "      <td id=\"T_aca29_row6_col1\" class=\"data row6 col1\" >(374, 2)</td>\n",
       "    </tr>\n",
       "    <tr>\n",
       "      <th id=\"T_aca29_level0_row7\" class=\"row_heading level0 row7\" >7</th>\n",
       "      <td id=\"T_aca29_row7_col0\" class=\"data row7 col0\" >Transformed test set shape</td>\n",
       "      <td id=\"T_aca29_row7_col1\" class=\"data row7 col1\" >(12, 2)</td>\n",
       "    </tr>\n",
       "    <tr>\n",
       "      <th id=\"T_aca29_level0_row8\" class=\"row_heading level0 row8\" >8</th>\n",
       "      <td id=\"T_aca29_row8_col0\" class=\"data row8 col0\" >Rows with missing values</td>\n",
       "      <td id=\"T_aca29_row8_col1\" class=\"data row8 col1\" >0.0%</td>\n",
       "    </tr>\n",
       "    <tr>\n",
       "      <th id=\"T_aca29_level0_row9\" class=\"row_heading level0 row9\" >9</th>\n",
       "      <td id=\"T_aca29_row9_col0\" class=\"data row9 col0\" >Fold Generator</td>\n",
       "      <td id=\"T_aca29_row9_col1\" class=\"data row9 col1\" >ExpandingWindowSplitter</td>\n",
       "    </tr>\n",
       "    <tr>\n",
       "      <th id=\"T_aca29_level0_row10\" class=\"row_heading level0 row10\" >10</th>\n",
       "      <td id=\"T_aca29_row10_col0\" class=\"data row10 col0\" >Fold Number</td>\n",
       "      <td id=\"T_aca29_row10_col1\" class=\"data row10 col1\" >3</td>\n",
       "    </tr>\n",
       "    <tr>\n",
       "      <th id=\"T_aca29_level0_row11\" class=\"row_heading level0 row11\" >11</th>\n",
       "      <td id=\"T_aca29_row11_col0\" class=\"data row11 col0\" >Enforce Prediction Interval</td>\n",
       "      <td id=\"T_aca29_row11_col1\" class=\"data row11 col1\" >False</td>\n",
       "    </tr>\n",
       "    <tr>\n",
       "      <th id=\"T_aca29_level0_row12\" class=\"row_heading level0 row12\" >12</th>\n",
       "      <td id=\"T_aca29_row12_col0\" class=\"data row12 col0\" >Splits used for hyperparameters</td>\n",
       "      <td id=\"T_aca29_row12_col1\" class=\"data row12 col1\" >all</td>\n",
       "    </tr>\n",
       "    <tr>\n",
       "      <th id=\"T_aca29_level0_row13\" class=\"row_heading level0 row13\" >13</th>\n",
       "      <td id=\"T_aca29_row13_col0\" class=\"data row13 col0\" >User Defined Seasonal Period(s)</td>\n",
       "      <td id=\"T_aca29_row13_col1\" class=\"data row13 col1\" >None</td>\n",
       "    </tr>\n",
       "    <tr>\n",
       "      <th id=\"T_aca29_level0_row14\" class=\"row_heading level0 row14\" >14</th>\n",
       "      <td id=\"T_aca29_row14_col0\" class=\"data row14 col0\" >Ignore Seasonality Test</td>\n",
       "      <td id=\"T_aca29_row14_col1\" class=\"data row14 col1\" >False</td>\n",
       "    </tr>\n",
       "    <tr>\n",
       "      <th id=\"T_aca29_level0_row15\" class=\"row_heading level0 row15\" >15</th>\n",
       "      <td id=\"T_aca29_row15_col0\" class=\"data row15 col0\" >Seasonality Detection Algo</td>\n",
       "      <td id=\"T_aca29_row15_col1\" class=\"data row15 col1\" >auto</td>\n",
       "    </tr>\n",
       "    <tr>\n",
       "      <th id=\"T_aca29_level0_row16\" class=\"row_heading level0 row16\" >16</th>\n",
       "      <td id=\"T_aca29_row16_col0\" class=\"data row16 col0\" >Max Period to Consider</td>\n",
       "      <td id=\"T_aca29_row16_col1\" class=\"data row16 col1\" >60</td>\n",
       "    </tr>\n",
       "    <tr>\n",
       "      <th id=\"T_aca29_level0_row17\" class=\"row_heading level0 row17\" >17</th>\n",
       "      <td id=\"T_aca29_row17_col0\" class=\"data row17 col0\" >Seasonal Period(s) Tested</td>\n",
       "      <td id=\"T_aca29_row17_col1\" class=\"data row17 col1\" >[2, 3, 4, 5, 6, 7, 8, 9, 10, 11, 12, 13, 14, 15, 16, 17, 18]</td>\n",
       "    </tr>\n",
       "    <tr>\n",
       "      <th id=\"T_aca29_level0_row18\" class=\"row_heading level0 row18\" >18</th>\n",
       "      <td id=\"T_aca29_row18_col0\" class=\"data row18 col0\" >Significant Seasonal Period(s)</td>\n",
       "      <td id=\"T_aca29_row18_col1\" class=\"data row18 col1\" >[2, 3, 4, 5, 6, 7, 8, 9, 10, 11, 12, 13, 14, 15, 16, 17, 18]</td>\n",
       "    </tr>\n",
       "    <tr>\n",
       "      <th id=\"T_aca29_level0_row19\" class=\"row_heading level0 row19\" >19</th>\n",
       "      <td id=\"T_aca29_row19_col0\" class=\"data row19 col0\" >Significant Seasonal Period(s) without Harmonics</td>\n",
       "      <td id=\"T_aca29_row19_col1\" class=\"data row19 col1\" >[18, 16, 15, 14, 10, 11, 12, 13, 17]</td>\n",
       "    </tr>\n",
       "    <tr>\n",
       "      <th id=\"T_aca29_level0_row20\" class=\"row_heading level0 row20\" >20</th>\n",
       "      <td id=\"T_aca29_row20_col0\" class=\"data row20 col0\" >Remove Harmonics</td>\n",
       "      <td id=\"T_aca29_row20_col1\" class=\"data row20 col1\" >False</td>\n",
       "    </tr>\n",
       "    <tr>\n",
       "      <th id=\"T_aca29_level0_row21\" class=\"row_heading level0 row21\" >21</th>\n",
       "      <td id=\"T_aca29_row21_col0\" class=\"data row21 col0\" >Harmonics Order Method</td>\n",
       "      <td id=\"T_aca29_row21_col1\" class=\"data row21 col1\" >harmonic_max</td>\n",
       "    </tr>\n",
       "    <tr>\n",
       "      <th id=\"T_aca29_level0_row22\" class=\"row_heading level0 row22\" >22</th>\n",
       "      <td id=\"T_aca29_row22_col0\" class=\"data row22 col0\" >Num Seasonalities to Use</td>\n",
       "      <td id=\"T_aca29_row22_col1\" class=\"data row22 col1\" >1</td>\n",
       "    </tr>\n",
       "    <tr>\n",
       "      <th id=\"T_aca29_level0_row23\" class=\"row_heading level0 row23\" >23</th>\n",
       "      <td id=\"T_aca29_row23_col0\" class=\"data row23 col0\" >All Seasonalities to Use</td>\n",
       "      <td id=\"T_aca29_row23_col1\" class=\"data row23 col1\" >[2]</td>\n",
       "    </tr>\n",
       "    <tr>\n",
       "      <th id=\"T_aca29_level0_row24\" class=\"row_heading level0 row24\" >24</th>\n",
       "      <td id=\"T_aca29_row24_col0\" class=\"data row24 col0\" >Primary Seasonality</td>\n",
       "      <td id=\"T_aca29_row24_col1\" class=\"data row24 col1\" >2</td>\n",
       "    </tr>\n",
       "    <tr>\n",
       "      <th id=\"T_aca29_level0_row25\" class=\"row_heading level0 row25\" >25</th>\n",
       "      <td id=\"T_aca29_row25_col0\" class=\"data row25 col0\" >Seasonality Present</td>\n",
       "      <td id=\"T_aca29_row25_col1\" class=\"data row25 col1\" >True</td>\n",
       "    </tr>\n",
       "    <tr>\n",
       "      <th id=\"T_aca29_level0_row26\" class=\"row_heading level0 row26\" >26</th>\n",
       "      <td id=\"T_aca29_row26_col0\" class=\"data row26 col0\" >Target Strictly Positive</td>\n",
       "      <td id=\"T_aca29_row26_col1\" class=\"data row26 col1\" >True</td>\n",
       "    </tr>\n",
       "    <tr>\n",
       "      <th id=\"T_aca29_level0_row27\" class=\"row_heading level0 row27\" >27</th>\n",
       "      <td id=\"T_aca29_row27_col0\" class=\"data row27 col0\" >Target White Noise</td>\n",
       "      <td id=\"T_aca29_row27_col1\" class=\"data row27 col1\" >No</td>\n",
       "    </tr>\n",
       "    <tr>\n",
       "      <th id=\"T_aca29_level0_row28\" class=\"row_heading level0 row28\" >28</th>\n",
       "      <td id=\"T_aca29_row28_col0\" class=\"data row28 col0\" >Recommended d</td>\n",
       "      <td id=\"T_aca29_row28_col1\" class=\"data row28 col1\" >0</td>\n",
       "    </tr>\n",
       "    <tr>\n",
       "      <th id=\"T_aca29_level0_row29\" class=\"row_heading level0 row29\" >29</th>\n",
       "      <td id=\"T_aca29_row29_col0\" class=\"data row29 col0\" >Recommended Seasonal D</td>\n",
       "      <td id=\"T_aca29_row29_col1\" class=\"data row29 col1\" >2</td>\n",
       "    </tr>\n",
       "    <tr>\n",
       "      <th id=\"T_aca29_level0_row30\" class=\"row_heading level0 row30\" >30</th>\n",
       "      <td id=\"T_aca29_row30_col0\" class=\"data row30 col0\" >Preprocess</td>\n",
       "      <td id=\"T_aca29_row30_col1\" class=\"data row30 col1\" >False</td>\n",
       "    </tr>\n",
       "    <tr>\n",
       "      <th id=\"T_aca29_level0_row31\" class=\"row_heading level0 row31\" >31</th>\n",
       "      <td id=\"T_aca29_row31_col0\" class=\"data row31 col0\" >CPU Jobs</td>\n",
       "      <td id=\"T_aca29_row31_col1\" class=\"data row31 col1\" >-1</td>\n",
       "    </tr>\n",
       "    <tr>\n",
       "      <th id=\"T_aca29_level0_row32\" class=\"row_heading level0 row32\" >32</th>\n",
       "      <td id=\"T_aca29_row32_col0\" class=\"data row32 col0\" >Use GPU</td>\n",
       "      <td id=\"T_aca29_row32_col1\" class=\"data row32 col1\" >False</td>\n",
       "    </tr>\n",
       "    <tr>\n",
       "      <th id=\"T_aca29_level0_row33\" class=\"row_heading level0 row33\" >33</th>\n",
       "      <td id=\"T_aca29_row33_col0\" class=\"data row33 col0\" >Log Experiment</td>\n",
       "      <td id=\"T_aca29_row33_col1\" class=\"data row33 col1\" >False</td>\n",
       "    </tr>\n",
       "    <tr>\n",
       "      <th id=\"T_aca29_level0_row34\" class=\"row_heading level0 row34\" >34</th>\n",
       "      <td id=\"T_aca29_row34_col0\" class=\"data row34 col0\" >Experiment Name</td>\n",
       "      <td id=\"T_aca29_row34_col1\" class=\"data row34 col1\" >ts-default-name</td>\n",
       "    </tr>\n",
       "    <tr>\n",
       "      <th id=\"T_aca29_level0_row35\" class=\"row_heading level0 row35\" >35</th>\n",
       "      <td id=\"T_aca29_row35_col0\" class=\"data row35 col0\" >USI</td>\n",
       "      <td id=\"T_aca29_row35_col1\" class=\"data row35 col1\" >0d56</td>\n",
       "    </tr>\n",
       "  </tbody>\n",
       "</table>\n"
      ],
      "text/plain": [
       "<pandas.io.formats.style.Styler at 0x1ec5e798c70>"
      ]
     },
     "metadata": {},
     "output_type": "display_data"
    }
   ],
   "source": [
    "s = setup(\n",
    "    data=econ, session_id=23,\n",
    "    fh=12, fold=3,\n",
    "    fig_kwargs=fig_settings, \n",
    "    enforce_exogenous=True,\n",
    "    target='unrate', index='DATE',\n",
    "    ignore_features=['CORESTICKM159SFRBATL']\n",
    "    )"
   ]
  },
  {
   "cell_type": "code",
   "execution_count": 12,
   "id": "268d872b-3000-4bfb-81a7-4927459e3c3d",
   "metadata": {},
   "outputs": [
    {
     "data": {
      "text/html": [],
      "text/plain": [
       "<IPython.core.display.HTML object>"
      ]
     },
     "metadata": {},
     "output_type": "display_data"
    },
    {
     "data": {
      "text/html": [
       "<style type=\"text/css\">\n",
       "</style>\n",
       "<table id=\"T_69fcb\">\n",
       "  <thead>\n",
       "  </thead>\n",
       "  <tbody>\n",
       "  </tbody>\n",
       "</table>\n"
      ],
      "text/plain": [
       "<pandas.io.formats.style.Styler at 0x1ec5e7ee3e0>"
      ]
     },
     "metadata": {},
     "output_type": "display_data"
    },
    {
     "data": {
      "text/html": [],
      "text/plain": [
       "<IPython.core.display.HTML object>"
      ]
     },
     "metadata": {},
     "output_type": "display_data"
    }
   ],
   "source": [
    "model = s.compare_models()"
   ]
  },
  {
   "cell_type": "code",
   "execution_count": 13,
   "id": "17851e47-68ad-4b2f-ae2f-7abe4a0f808a",
   "metadata": {},
   "outputs": [
    {
     "data": {
      "text/plain": [
       "[]"
      ]
     },
     "execution_count": 13,
     "metadata": {},
     "output_type": "execute_result"
    }
   ],
   "source": [
    "model"
   ]
  },
  {
   "cell_type": "markdown",
   "id": "c8505403-e16e-479c-8975-4e0e8edafc04",
   "metadata": {},
   "source": [
    "## See Also"
   ]
  },
  {
   "cell_type": "markdown",
   "id": "878da402-94b4-4fff-b947-05b8f507db0e",
   "metadata": {},
   "source": [
    "1. Makridakis, Spyros, Evangelos Spiliotis, and Vassilios Assimakopoulos. “Statistical and Machine Learning Forecasting Methods: Concerns and Ways Forward.” PLOS ONE 13, no. 3 (March 27, 2018): e0194889. https://doi.org/10.1371/journal.pone.0194889.\n",
    "\n",
    "2. Ahmed, Nesreen K., Amir F. Atiya, Neamat El Gayar, and Hisham El-Shishiny. “An Empirical Comparison of Machine Learning Models for Time Series Forecasting.” Econometric Reviews 29, no. 5–6 (August 30, 2010): 594–621. https://doi.org/10.1080/07474938.2010.481556.\n"
   ]
  }
 ],
 "metadata": {
  "kernelspec": {
   "display_name": "Python3.10 (quickMLCheck)",
   "language": "python",
   "name": "quickmlcheck"
  },
  "language_info": {
   "codemirror_mode": {
    "name": "ipython",
    "version": 3
   },
   "file_extension": ".py",
   "mimetype": "text/x-python",
   "name": "python",
   "nbconvert_exporter": "python",
   "pygments_lexer": "ipython3",
   "version": "3.10.11"
  },
  "toc": {
   "base_numbering": 1,
   "nav_menu": {},
   "number_sections": true,
   "sideBar": true,
   "skip_h1_title": false,
   "title_cell": "Table of Contents",
   "title_sidebar": "Contents",
   "toc_cell": false,
   "toc_position": {},
   "toc_section_display": true,
   "toc_window_display": false
  }
 },
 "nbformat": 4,
 "nbformat_minor": 5
}
