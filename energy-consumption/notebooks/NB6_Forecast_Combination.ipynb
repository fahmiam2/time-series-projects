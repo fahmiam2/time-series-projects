{
 "cells": [
  {
   "cell_type": "code",
   "execution_count": 1,
   "id": "72b8fb23",
   "metadata": {},
   "outputs": [
    {
     "name": "stdout",
     "output_type": "stream",
     "text": [
      "C:\\Users\\fahmi\\Documents\\Github ML Project\\time-series-projects\n"
     ]
    }
   ],
   "source": [
    "%cd ../.."
   ]
  },
  {
   "cell_type": "markdown",
   "id": "17a00951",
   "metadata": {},
   "source": [
    "# Libraries & Dataset\n",
    "## Load Libraries"
   ]
  },
  {
   "cell_type": "code",
   "execution_count": 2,
   "id": "0d0eb47a",
   "metadata": {},
   "outputs": [
    {
     "name": "stderr",
     "output_type": "stream",
     "text": [
      "C:\\Users\\fahmi\\Documents\\Github ML Project\\time-series-projects\\src\\utils\\data_utils.py:6: TqdmWarning: IProgress not found. Please update jupyter and ipywidgets. See https://ipywidgets.readthedocs.io/en/stable/user_install.html\n",
      "  from tqdm.autonotebook import tqdm\n"
     ]
    }
   ],
   "source": [
    "import pandas as pd\n",
    "import numpy as np\n",
    "import os\n",
    "import joblib\n",
    "import plotly.express as px\n",
    "import plotly.graph_objects as go\n",
    "import plotly.io as pio\n",
    "\n",
    "pio.templates.default = \"plotly_white\"\n",
    "\n",
    "from src.forecasting.ml_forecasting import (\n",
    "    FeatureConfig,\n",
    "    MissingValueConfig,\n",
    "    MLForecast,\n",
    "    ModelConfig,\n",
    "    calculate_metrics,\n",
    ")\n",
    "from src.utils.general import LogTime\n",
    "import humanize\n",
    "\n",
    "from sklearn.linear_model import LinearRegression, LassoCV, RidgeCV\n",
    "from sklearn.tree import DecisionTreeRegressor\n",
    "from sklearn.ensemble import RandomForestRegressor"
   ]
  },
  {
   "cell_type": "markdown",
   "id": "116a39c7",
   "metadata": {},
   "source": [
    "## Load Train and Val sets"
   ]
  },
  {
   "cell_type": "code",
   "execution_count": null,
   "id": "aa35e6d7",
   "metadata": {},
   "outputs": [],
   "source": [
    "train_data = pd.read_csv(\"energy-consumption/datasets/preprocessed/train_data_preprocessed.csv\")\n",
    "auto_stat_target = pd.read_csv(\"energy-consumption/datasets/autotransform/train_val_data_autotransformer.csv\")\n",
    "transformer_pipeline = joblib.load(\"energy-consumption/datasets/preprocessed/train_val_data_autotransformer_pipeline.pkl\")\n",
    "val_data = pd.read_csv(\"energy-consumption/datasets/preprocessed/val_data_preprocessed.csv\")"
   ]
  },
  {
   "cell_type": "code",
   "execution_count": null,
   "id": "4f803a2b",
   "metadata": {},
   "outputs": [],
   "source": [
    "pd.concat([train_df, val_df]).reset_index().set_index(\"timestamp\")"
   ]
  },
  {
   "cell_type": "code",
   "execution_count": null,
   "id": "0c9c3bec",
   "metadata": {},
   "outputs": [],
   "source": [
    "train_data = train_data.set_index(\"Month\").join(auto_stat_target.set_index(\"Month\")).reset_index()\n",
    "train_data = train_data.drop([\"type\"], axis=1)\n",
    "train_data[\"Month\"] = pd.to_datetime(train_data[\"Month\"])\n",
    "\n",
    "val_data = val_data.drop([\"type\"], axis=1)\n",
    "val_data[\"Month\"] = pd.to_datetime(val_data[\"Month\"])"
   ]
  },
  {
   "cell_type": "code",
   "execution_count": null,
   "id": "a85a45f5",
   "metadata": {},
   "outputs": [],
   "source": [
    "train_data"
   ]
  },
  {
   "cell_type": "code",
   "execution_count": null,
   "id": "c0aef7d9",
   "metadata": {},
   "outputs": [],
   "source": [
    "train_data.columns"
   ]
  },
  {
   "cell_type": "markdown",
   "id": "d9c026da",
   "metadata": {},
   "source": [
    "## Feature Definition"
   ]
  },
  {
   "cell_type": "code",
   "execution_count": null,
   "id": "24b46e62",
   "metadata": {},
   "outputs": [],
   "source": [
    "def column_dtypes(df):\n",
    "    continuous_cols = []\n",
    "    categorical_cols = []\n",
    "    boolean_cols = []\n",
    "\n",
    "    for column in df.columns:\n",
    "        if df[column].dtype in [int, float]:\n",
    "            continuous_cols.append(column)\n",
    "        elif (df[column].dtype == bool) or (\"is\" in column.lower()) :\n",
    "            boolean_cols.append(column)\n",
    "        else:\n",
    "            categorical_cols.append(column)\n",
    "            \n",
    "    return continuous_cols, categorical_cols, boolean_cols"
   ]
  },
  {
   "cell_type": "code",
   "execution_count": null,
   "id": "0beba901",
   "metadata": {},
   "outputs": [],
   "source": [
    "continuous_cols, categorical_cols, boolean_cols = column_dtypes(train_data.drop([\"y\", \"Month\", \"y_auto_stat\"], axis=1))"
   ]
  },
  {
   "cell_type": "code",
   "execution_count": null,
   "id": "5deedd4e",
   "metadata": {},
   "outputs": [],
   "source": [
    "feat_config = FeatureConfig(\n",
    "    date=\"Month\",\n",
    "    target=\"y_auto_stat\",\n",
    "    original_target=\"y\",\n",
    "    continuous_features=continuous_cols,\n",
    "    categorical_features=categorical_cols,\n",
    "    boolean_features=boolean_cols,\n",
    "    index_cols=[\"Month\"]\n",
    ")"
   ]
  },
  {
   "cell_type": "code",
   "execution_count": null,
   "id": "708628ad",
   "metadata": {},
   "outputs": [],
   "source": [
    "train_features, train_target, train_original_target = feat_config.get_X_y(\n",
    "    train_data, categorical=True, exogenous=False\n",
    ")\n",
    "# Loading the Validation as test\n",
    "test_features, test_target, test_original_target = feat_config.get_X_y(\n",
    "    val_data, categorical=True, exogenous=False\n",
    ")"
   ]
  },
  {
   "cell_type": "markdown",
   "id": "cbeec04b",
   "metadata": {},
   "source": [
    "## Handling Missing Values"
   ]
  },
  {
   "cell_type": "code",
   "execution_count": null,
   "id": "e11b8b29",
   "metadata": {},
   "outputs": [],
   "source": [
    "tr_m = train_features.isnull().sum()\n",
    "tr_m[tr_m > 0]"
   ]
  },
  {
   "cell_type": "code",
   "execution_count": null,
   "id": "6d981d8b",
   "metadata": {},
   "outputs": [],
   "source": [
    "ts_m = test_features.isnull().sum()\n",
    "ts_m[ts_m > 0]"
   ]
  },
  {
   "cell_type": "code",
   "execution_count": null,
   "id": "f8f52dac",
   "metadata": {},
   "outputs": [],
   "source": [
    "missing_value_config = MissingValueConfig(\n",
    "    bfill_columns = tr_m[tr_m > 0].index.tolist()\n",
    ")"
   ]
  },
  {
   "cell_type": "markdown",
   "id": "1c4bfedb",
   "metadata": {},
   "source": [
    "# Helper Functions"
   ]
  },
  {
   "cell_type": "code",
   "execution_count": null,
   "id": "596f3f24",
   "metadata": {},
   "outputs": [],
   "source": [
    "def format_plot(fig, legends = None, xlabel=\"Time\", ylabel=\"Value\", title=\"\", font_size=15):\n",
    "    if legends:\n",
    "        names = cycle(legends)\n",
    "        fig.for_each_trace(lambda t:  t.update(name = next(names)))\n",
    "    fig.update_layout(\n",
    "            autosize=False,\n",
    "            width=900,\n",
    "            height=500,\n",
    "            title_text=title,\n",
    "            title={\n",
    "            'x':0.5,\n",
    "            'xanchor': 'center',\n",
    "            'yanchor': 'top'},\n",
    "            titlefont={\n",
    "                \"size\": 20\n",
    "            },\n",
    "            legend_title = None,\n",
    "            legend=dict(\n",
    "                font=dict(size=font_size),\n",
    "                orientation=\"h\",\n",
    "                yanchor=\"bottom\",\n",
    "                y=0.98,\n",
    "                xanchor=\"right\",\n",
    "                x=1,\n",
    "            ),\n",
    "            yaxis=dict(\n",
    "                title_text=ylabel,\n",
    "                titlefont=dict(size=font_size),\n",
    "                tickfont=dict(size=font_size),\n",
    "            ),\n",
    "            xaxis=dict(\n",
    "                title_text=xlabel,\n",
    "                titlefont=dict(size=font_size),\n",
    "                tickfont=dict(size=font_size),\n",
    "            )\n",
    "        )\n",
    "    return fig"
   ]
  },
  {
   "cell_type": "code",
   "execution_count": null,
   "id": "5b0fdea6",
   "metadata": {},
   "outputs": [],
   "source": [
    "def evaluate_model(\n",
    "    model_config, \n",
    "    feature_config, \n",
    "    missing_config, \n",
    "    target_transformer, \n",
    "    train_features, \n",
    "    train_target, \n",
    "    test_features, \n",
    "    test_target, \n",
    "    train_target_original=None\n",
    "):\n",
    "    ml_model = MLForecast(\n",
    "        model_config=model_config, \n",
    "        feature_config=feat_config, \n",
    "        missing_config=missing_value_config, \n",
    "        target_transformer=target_transformer\n",
    "    )\n",
    "    ml_model.fit(train_features, train_target, is_transformed=True)\n",
    "    y_pred = ml_model.predict(test_features)\n",
    "    feat_df = ml_model.feature_importance()\n",
    "    metrics = calculate_metrics(test_target, y_pred, model_config.name, train_target_original)\n",
    "    return y_pred, metrics, feat_df"
   ]
  },
  {
   "cell_type": "code",
   "execution_count": null,
   "id": "2f05b309",
   "metadata": {},
   "outputs": [],
   "source": [
    "from itertools import cycle\n",
    "\n",
    "def plot_forecast(pred_df, forecast_columns, forecast_display_names=None):\n",
    "    if forecast_display_names is None:\n",
    "        forecast_display_names = forecast_columns\n",
    "    else:\n",
    "        assert len(forecast_columns)==len(forecast_display_names)\n",
    "    mask = ~pred_df[forecast_columns[0]].isnull()\n",
    "    # colors = [\"rgba(\"+\",\".join([str(c) for c in plotting_utils.hex_to_rgb(c)])+\",<alpha>)\" for c in px.colors.qualitative.Plotly]\n",
    "    colors = [c.replace(\"rgb\", \"rgba\").replace(\")\", \", <alpha>)\") for c in px.colors.qualitative.Dark2]\n",
    "    # colors = [c.replace(\"rgb\", \"rgba\").replace(\")\", \", <alpha>)\") for c in px.colors.qualitative.Safe]\n",
    "    act_color = colors[0]\n",
    "    colors = cycle(colors[1:])\n",
    "    dash_types = cycle([\"dash\",\"dot\",\"dashdot\"])\n",
    "    fig = go.Figure()\n",
    "#     change y to your time series column\n",
    "    fig.add_trace(go.Scatter(x=pred_df[mask].index, y=pred_df[mask].y,\n",
    "                        mode='lines', line = dict(color=act_color.replace(\"<alpha>\", \"0.3\")),\n",
    "                        name='Actual Consumption'))\n",
    "    for col, display_col in zip(forecast_columns,forecast_display_names):\n",
    "        fig.add_trace(go.Scatter(x=pred_df[mask].index, y=pred_df.loc[mask, col],\n",
    "                            mode='lines', line = dict(dash=next(dash_types), color=next(colors).replace(\"<alpha>\", \"1\")),\n",
    "                            name=display_col))\n",
    "    return fig"
   ]
  },
  {
   "cell_type": "code",
   "execution_count": null,
   "id": "202c125d",
   "metadata": {},
   "outputs": [],
   "source": [
    "def highlight_abs_min(s, props=''):\n",
    "    return np.where(s == np.nanmin(np.abs(s.values)), props, '')"
   ]
  },
  {
   "cell_type": "markdown",
   "id": "fea88ce4",
   "metadata": {},
   "source": [
    "# Ensemble Forecasting"
   ]
  },
  {
   "cell_type": "code",
   "execution_count": null,
   "id": "0b0ffdab",
   "metadata": {},
   "outputs": [],
   "source": [
    "pred_df = pd.concat([train_target, test_original_target])\n",
    "metric_record = []"
   ]
  },
  {
   "cell_type": "markdown",
   "id": "4bb54bc9",
   "metadata": {},
   "source": [
    "## Linear Regression"
   ]
  },
  {
   "cell_type": "code",
   "execution_count": null,
   "id": "b7d3175f",
   "metadata": {},
   "outputs": [],
   "source": []
  },
  {
   "cell_type": "code",
   "execution_count": null,
   "id": "d753ae6e",
   "metadata": {},
   "outputs": [],
   "source": []
  },
  {
   "cell_type": "code",
   "execution_count": null,
   "id": "a43c99f2",
   "metadata": {},
   "outputs": [],
   "source": []
  },
  {
   "cell_type": "code",
   "execution_count": null,
   "id": "f1391ccb",
   "metadata": {},
   "outputs": [],
   "source": []
  },
  {
   "cell_type": "code",
   "execution_count": null,
   "id": "5af6a1a3",
   "metadata": {},
   "outputs": [],
   "source": []
  },
  {
   "cell_type": "code",
   "execution_count": null,
   "id": "4700eb73",
   "metadata": {},
   "outputs": [],
   "source": []
  },
  {
   "cell_type": "code",
   "execution_count": null,
   "id": "42f0772d",
   "metadata": {},
   "outputs": [],
   "source": []
  },
  {
   "cell_type": "code",
   "execution_count": null,
   "id": "45d3260d",
   "metadata": {},
   "outputs": [],
   "source": []
  },
  {
   "cell_type": "markdown",
   "id": "ef1d0743",
   "metadata": {},
   "source": [
    "# Evaluation Metrics"
   ]
  },
  {
   "cell_type": "code",
   "execution_count": null,
   "id": "0f8aef61",
   "metadata": {},
   "outputs": [],
   "source": [
    "summary = pd.DataFrame(metric_record)\n",
    "summary.sort_values(\"MAE\", ascending=True)"
   ]
  },
  {
   "cell_type": "code",
   "execution_count": null,
   "id": "4f630b09",
   "metadata": {},
   "outputs": [],
   "source": []
  }
 ],
 "metadata": {
  "kernelspec": {
   "display_name": "Python310 (ts_model)",
   "language": "python",
   "name": "ts_model"
  },
  "language_info": {
   "codemirror_mode": {
    "name": "ipython",
    "version": 3
   },
   "file_extension": ".py",
   "mimetype": "text/x-python",
   "name": "python",
   "nbconvert_exporter": "python",
   "pygments_lexer": "ipython3",
   "version": "3.10.12"
  },
  "toc": {
   "base_numbering": 1,
   "nav_menu": {},
   "number_sections": true,
   "sideBar": true,
   "skip_h1_title": false,
   "title_cell": "Table of Contents",
   "title_sidebar": "Contents",
   "toc_cell": false,
   "toc_position": {},
   "toc_section_display": true,
   "toc_window_display": true
  }
 },
 "nbformat": 4,
 "nbformat_minor": 5
}
